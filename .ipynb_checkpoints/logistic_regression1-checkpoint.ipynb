{
 "cells": [
  {
   "cell_type": "code",
   "execution_count": 1,
   "metadata": {
    "collapsed": true
   },
   "outputs": [],
   "source": [
    "# This script performs an exploratory data analysis of the passengers\n",
    "\n",
    "\n",
    "# VARIABLE DESCRIPTIONS:\n",
    "# 1  survival        Survival\n",
    "#                    (0 = No; 1 = Yes)\n",
    "# 2  pclass          Passenger Class\n",
    "#                    (1 = 1st; 2 = 2nd; 3 = 3rd)\n",
    "# 3  name            Name\n",
    "# 4  sex             Sex\n",
    "# 5  age             Age\n",
    "# 6  sibsp           Number of Siblings/Spouses Aboard\n",
    "# 7  parch           Number of Parents/Children Aboard\n",
    "# 8  ticket          Ticket Number\n",
    "# 9  fare            Passenger Fare\n",
    "# 10 cabin           Cabin\n",
    "# 11 embarked        Port of Embarkation\n",
    "#                    (C = Cherbourg; Q = Queenstown; S = Southampton)"
   ]
  },
  {
   "cell_type": "code",
   "execution_count": 54,
   "metadata": {
    "collapsed": false
   },
   "outputs": [],
   "source": [
    "%matplotlib inline\n",
    "\n",
    "import numpy as np\n",
    "import matplotlib.pyplot as plt\n",
    "import matplotlib.mlab as mlab\n",
    "import csv as csv\n",
    "import sklearn.linear_model as lm\n",
    "import sklearn.tree as tr\n",
    "import sklearn.cross_validation as cv\n",
    "from sklearn import svm\n",
    "from sklearn import preprocessing\n",
    "import random"
   ]
  },
  {
   "cell_type": "code",
   "execution_count": 3,
   "metadata": {
    "collapsed": true
   },
   "outputs": [],
   "source": [
    "csv_file_object = csv.reader(open('train.csv'))       # Load in the csv file\n",
    "csv_file_object\n",
    "header = next(csv_file_object)                        # Skip the fist line as it is a header\n",
    "data=[]                                               # Create a variable to hold the data\n",
    "\n",
    "for row in csv_file_object:                           # Skip through each row in the csv file,\n",
    "    data.append(row[0:])                              # adding each row to the data variable\n",
    "data = np.array(data)                                 # Then convert from a list to an array."
   ]
  },
  {
   "cell_type": "code",
   "execution_count": 4,
   "metadata": {
    "collapsed": false
   },
   "outputs": [
    {
     "name": "stdout",
     "output_type": "stream",
     "text": [
      "m = 714\n"
     ]
    }
   ],
   "source": [
    "# Select data with age\n",
    "data_wa=np.squeeze(data[data[:,5].nonzero(),:])\n",
    "\n",
    "# number of training examples\n",
    "m=len(data_wa)\n",
    "print('m =',m)\n",
    "\n",
    "# number of features to be used\n",
    "n=7\n",
    "\n",
    "# Create training data set\n",
    "x=np.zeros([m,n])"
   ]
  },
  {
   "cell_type": "code",
   "execution_count": 56,
   "metadata": {
    "collapsed": false
   },
   "outputs": [],
   "source": [
    "# Copy class to training set\n",
    "x[:,0]=data_wa[:,2].astype(np.float)\n",
    "\n",
    "# Copy gender to training set\n",
    "x[data_wa[:,4]=='male',1]=0.\n",
    "x[data_wa[:,4]=='female',1]=1.\n",
    "\n",
    "# Copy age to training set\n",
    "x[:,2]=data_wa[:,5].astype(np.float)\n",
    "\n",
    "# Copy sibsp to training set\n",
    "x[:,3]=data_wa[:,6].astype(np.float)\n",
    "\n",
    "# Copy parch to training set\n",
    "x[:,4]=data_wa[:,7].astype(np.float)\n",
    "\n",
    "# Copy fare to training set\n",
    "x[:,5]=np.log(data_wa[:,9].astype(np.float)+0.1)\n",
    "\n",
    "# Copy embarked to training set\n",
    "x[data_wa[:,11]=='C',6]=1.\n",
    "x[data_wa[:,11]=='Q',6]=2.\n",
    "x[data_wa[:,11]=='S',6]=3."
   ]
  },
  {
   "cell_type": "code",
   "execution_count": 82,
   "metadata": {
    "collapsed": false
   },
   "outputs": [],
   "source": [
    "poly = preprocessing.PolynomialFeatures(4)\n",
    "xnew=poly.fit_transform(X)"
   ]
  },
  {
   "cell_type": "code",
   "execution_count": 83,
   "metadata": {
    "collapsed": true
   },
   "outputs": [],
   "source": [
    "# Features scaling\n",
    "X = preprocessing.scale(xnew)"
   ]
  },
  {
   "cell_type": "code",
   "execution_count": 84,
   "metadata": {
    "collapsed": false
   },
   "outputs": [],
   "source": [
    "# Survivors\n",
    "y=data_wa[:,1].astype(np.float)"
   ]
  },
  {
   "cell_type": "code",
   "execution_count": 85,
   "metadata": {
    "collapsed": false
   },
   "outputs": [],
   "source": [
    "X_train, X_test, y_train, y_test = cv.train_test_split(X, y, test_size=0.33, random_state=88)"
   ]
  },
  {
   "cell_type": "code",
   "execution_count": null,
   "metadata": {
    "collapsed": false
   },
   "outputs": [],
   "source": [
    "lr=lm.LogisticRegression(penalty='l2', dual=False, tol=0.0001, C=1.0, fit_intercept=True,\n",
    "                                    intercept_scaling=1, class_weight=None, random_state=None,\n",
    "                                    solver='liblinear',max_iter=100, multi_class='ovr',\n",
    "                                    verbose=0, warm_start=False, n_jobs=1)"
   ]
  },
  {
   "cell_type": "code",
   "execution_count": null,
   "metadata": {
    "collapsed": false
   },
   "outputs": [],
   "source": [
    "lr.fit(X_train,y_train)"
   ]
  },
  {
   "cell_type": "code",
   "execution_count": null,
   "metadata": {
    "collapsed": false
   },
   "outputs": [],
   "source": [
    "lr.score(X_train,y_train)"
   ]
  },
  {
   "cell_type": "code",
   "execution_count": null,
   "metadata": {
    "collapsed": false
   },
   "outputs": [],
   "source": [
    "scores = cv.cross_val_score(lr, X_train, y_train, cv=20)\n",
    "print(\"Accuracy: %0.2f (+/- %0.2f)\" % (scores.mean(), scores.std() * 2))"
   ]
  },
  {
   "cell_type": "code",
   "execution_count": null,
   "metadata": {
    "collapsed": false
   },
   "outputs": [],
   "source": [
    "C_s = np.logspace(-10, 3, 10)"
   ]
  },
  {
   "cell_type": "code",
   "execution_count": null,
   "metadata": {
    "collapsed": false
   },
   "outputs": [],
   "source": [
    "scores = np.zeros(len(C_s))\n",
    "scores_std = np.zeros(len(C_s))\n",
    "test_err = np.zeros(len(C_s))\n",
    "\n",
    "\n",
    "for i in np.arange(len(C_s)):\n",
    "    print('C=',C_s[i],'%',100*i/len(C_s))\n",
    "    lr=lm.LogisticRegression(penalty='l2',  tol=0.0001, C=C_s[i])\n",
    "    lr.fit(X_train, y_train)\n",
    "    tmp = cv.cross_val_score(lr, X_train, y_train, cv=10,scoring='accuracy')\n",
    "    scores[i],scores_std[i]=tmp.mean(), tmp.std()\n",
    "    test_err[i]=lr.score(X_test,y_test)   \n",
    "    \n",
    "# plot scores as a function of C\n",
    "plt.figure(1, figsize=(8,8))\n",
    "\n",
    "plt.semilogx(C_s, scores)\n",
    "plt.semilogx(C_s, scores + scores_std, 'b--')\n",
    "plt.semilogx(C_s, scores - scores_std, 'b--')\n",
    "plt.semilogx(C_s, test_err,'r')\n",
    "\n",
    "plt.xlabel('C')\n",
    "plt.ylabel('score')\n",
    "plt.title('CV score')\n",
    "plt.axis([C_s[0],C_s[-1], 0, 1])\n",
    "plt.grid(True)\n",
    "\n",
    "plt.show()"
   ]
  },
  {
   "cell_type": "code",
   "execution_count": 65,
   "metadata": {
    "collapsed": false
   },
   "outputs": [
    {
     "name": "stdout",
     "output_type": "stream",
     "text": [
      "C= 1e-05 % 0.0\n",
      "C= 1.48735210729e-05 % 3.33333333333\n",
      "C= 2.21221629107e-05 % 6.66666666667\n",
      "C= 3.29034456231e-05 % 10.0\n",
      "C= 4.89390091848e-05 % 13.3333333333\n",
      "C= 7.27895384398e-05 % 16.6666666667\n",
      "C= 0.000108263673387 % 20.0\n",
      "C= 0.000161026202756 % 23.3333333333\n",
      "C= 0.000239502661999 % 26.6666666667\n",
      "C= 0.000356224789026 % 30.0\n",
      "C= 0.000529831690628 % 33.3333333333\n",
      "C= 0.000788046281567 % 36.6666666667\n",
      "C= 0.00117210229753 % 40.0\n",
      "C= 0.0017433288222 % 43.3333333333\n",
      "C= 0.0025929437974 % 46.6666666667\n",
      "C= 0.00385662042116 % 50.0\n",
      "C= 0.00573615251045 % 53.3333333333\n",
      "C= 0.00853167852417 % 56.6666666667\n",
      "C= 0.0126896100317 % 60.0\n",
      "C= 0.0188739182214 % 63.3333333333\n",
      "C= 0.0280721620394 % 66.6666666667\n",
      "C= 0.0417531893656 % 70.0\n",
      "C= 0.0621016941892 % 73.3333333333\n",
      "C= 0.0923670857187 % 76.6666666667\n",
      "C= 0.137382379588 % 80.0\n",
      "C= 0.204335971786 % 83.3333333333\n",
      "C= 0.303919538231 % 86.6666666667\n",
      "C= 0.452035365636 % 90.0\n",
      "C= 0.67233575365 % 93.3333333333\n",
      "C= 1.0 % 96.6666666667\n"
     ]
    },
    {
     "data": {
      "image/png": "[encoded data removed]",
      "text/plain": [
       "<matplotlib.figure.Figure at 0x112352438>"
      ]
     },
     "metadata": {},
     "output_type": "display_data"
    }
   ],
   "source": [
    "C_s = np.logspace(-5, 0, 30)\n",
    "\n",
    "scores = np.zeros(len(C_s))\n",
    "scores_std = np.zeros(len(C_s))\n",
    "\n",
    "\n",
    "for i in np.arange(len(C_s)):\n",
    "    print('C=',C_s[i],'%',100*i/len(C_s))\n",
    "    svc = svm.SVC(C=C_s[i], kernel='linear')\n",
    "    svc.fit(x,y)\n",
    "    tmp = cv.cross_val_score(svc, X_train, y_train, cv=10) \n",
    "    test_err[i]=svc.score(X_test,y_test)  \n",
    "    scores[i],scores_std[i]=tmp.mean(), tmp.std()\n",
    "    \n",
    "    \n",
    "# plot scores as a function of C\n",
    "plt.figure(1, figsize=(8,8))\n",
    "\n",
    "plt.semilogx(C_s, scores)\n",
    "plt.semilogx(C_s, scores + scores_std, 'b--')\n",
    "plt.semilogx(C_s, scores - scores_std, 'b--')\n",
    "plt.semilogx(C_s, test_err,'r')\n",
    "\n",
    "plt.xlabel('C')\n",
    "plt.ylabel('score')\n",
    "plt.title('CV score')\n",
    "plt.axis([C_s[0],C_s[-1], 0, 1])\n",
    "plt.grid(True)\n",
    "\n",
    "plt.show()"
   ]
  },
  {
   "cell_type": "code",
   "execution_count": null,
   "metadata": {
    "collapsed": false
   },
   "outputs": [],
   "source": [
    "dtc=tr.DecisionTreeClassifier(x,y)\n",
    "dtc.fit(x,y)\n"
   ]
  },
  {
   "cell_type": "code",
   "execution_count": null,
   "metadata": {
    "collapsed": false
   },
   "outputs": [],
   "source": [
    "svc.score(x,y)"
   ]
  },
  {
   "cell_type": "code",
   "execution_count": 26,
   "metadata": {
    "collapsed": false
   },
   "outputs": [
    {
     "name": "stdout",
     "output_type": "stream",
     "text": [
      "[  1.00000000e-10   1.29154967e-09   1.66810054e-08   2.15443469e-07\n",
      "   2.78255940e-06   3.59381366e-05   4.64158883e-04   5.99484250e-03\n",
      "   7.74263683e-02   1.00000000e+00]\n"
     ]
    }
   ],
   "source": [
    "print(C_s)"
   ]
  },
  {
   "cell_type": "code",
   "execution_count": 27,
   "metadata": {
    "collapsed": false
   },
   "outputs": [
    {
     "name": "stdout",
     "output_type": "stream",
     "text": [
      "[ 0.60040708  0.60040708  0.60040708  0.60040708  0.60040708  0.60040708\n",
      "  0.60040708  0.79292861  0.79292861  0.79292861]\n"
     ]
    }
   ],
   "source": [
    "print(scores)"
   ]
  },
  {
   "cell_type": "code",
   "execution_count": null,
   "metadata": {
    "collapsed": true
   },
   "outputs": [],
   "source": []
  }
 ],
 "metadata": {
  "kernelspec": {
   "display_name": "Python 3",
   "language": "python",
   "name": "python3"
  },
  "language_info": {
   "codemirror_mode": {
    "name": "ipython",
    "version": 3
   },
   "file_extension": ".py",
   "mimetype": "text/x-python",
   "name": "python",
   "nbconvert_exporter": "python",
   "pygments_lexer": "ipython3",
   "version": "3.5.2"
  }
 },
 "nbformat": 4,
 "nbformat_minor": 0
}

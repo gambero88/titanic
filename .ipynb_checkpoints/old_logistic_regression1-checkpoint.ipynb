{
 "cells": [
  {
   "cell_type": "code",
   "execution_count": 14,
   "metadata": {
    "collapsed": true
   },
   "outputs": [],
   "source": [
    "# This script performs an exploratory data analysis of the passengers\n",
    "\n",
    "\n",
    "# VARIABLE DESCRIPTIONS:\n",
    "# 1  survival        Survival\n",
    "#                    (0 = No; 1 = Yes)\n",
    "# 2  pclass          Passenger Class\n",
    "#                    (1 = 1st; 2 = 2nd; 3 = 3rd)\n",
    "# 3  name            Name\n",
    "# 4  sex             Sex\n",
    "# 5  age             Age\n",
    "# 6  sibsp           Number of Siblings/Spouses Aboard\n",
    "# 7  parch           Number of Parents/Children Aboard\n",
    "# 8  ticket          Ticket Number\n",
    "# 9  fare            Passenger Fare\n",
    "# 10 cabin           Cabin\n",
    "# 11 embarked        Port of Embarkation\n",
    "#                    (C = Cherbourg; Q = Queenstown; S = Southampton)"
   ]
  },
  {
   "cell_type": "code",
   "execution_count": 15,
   "metadata": {
    "collapsed": false
   },
   "outputs": [],
   "source": [
    "%matplotlib inline\n",
    "\n",
    "import numpy as np\n",
    "import matplotlib.pyplot as plt\n",
    "import matplotlib.mlab as mlab\n",
    "import csv as csv\n",
    "import sklearn.linear_model as lm\n",
    "import sklearn.cross_validation as cv\n",
    "from sklearn import preprocessing\n",
    "import random"
   ]
  },
  {
   "cell_type": "code",
   "execution_count": 16,
   "metadata": {
    "collapsed": true
   },
   "outputs": [],
   "source": [
    "csv_file_object = csv.reader(open('train.csv'))       # Load in the csv file\n",
    "csv_file_object\n",
    "header = next(csv_file_object)                        # Skip the fist line as it is a header\n",
    "data=[]                                               # Create a variable to hold the data\n",
    "\n",
    "for row in csv_file_object:                           # Skip through each row in the csv file,\n",
    "    data.append(row[0:])                              # adding each row to the data variable\n",
    "data = np.array(data)                                 # Then convert from a list to an array."
   ]
  },
  {
   "cell_type": "code",
   "execution_count": 17,
   "metadata": {
    "collapsed": false
   },
   "outputs": [
    {
     "name": "stdout",
     "output_type": "stream",
     "text": [
      "m = 714\n"
     ]
    }
   ],
   "source": [
    "# Select data with age\n",
    "data_wa=np.squeeze(data[data[:,5].nonzero(),:])\n",
    "\n",
    "# number of training examples\n",
    "m=len(data_wa)\n",
    "print('m =',m)\n",
    "\n",
    "# number of features to be used\n",
    "n=7\n",
    "\n",
    "# Create training data set\n",
    "x=np.zeros([m,n])"
   ]
  },
  {
   "cell_type": "code",
   "execution_count": 18,
   "metadata": {
    "collapsed": false
   },
   "outputs": [],
   "source": [
    "# Copy class to training set\n",
    "x[:,0]=data_wa[:,2].astype(np.float)\n",
    "\n",
    "# Copy gender to training set\n",
    "x[data_wa[:,4]=='male',1]=0.\n",
    "x[data_wa[:,4]=='female',1]=1.\n",
    "\n",
    "# Copy age to training set\n",
    "x[:,2]=data_wa[:,5].astype(np.float)\n",
    "\n",
    "# Copy sibsp to training set\n",
    "x[:,3]=data_wa[:,6].astype(np.float)\n",
    "\n",
    "# Copy parch to training set\n",
    "x[:,4]=data_wa[:,7].astype(np.float)\n",
    "\n",
    "# Copy fare to training set\n",
    "x[:,5]=np.log(data_wa[:,9].astype(np.float)+0.1)\n",
    "\n",
    "# Copy embarked to training set\n",
    "x[data_wa[:,11]=='C',6]=1.\n",
    "x[data_wa[:,11]=='Q',6]=2.\n",
    "x[data_wa[:,11]=='S',6]=3."
   ]
  },
  {
   "cell_type": "code",
   "execution_count": 25,
   "metadata": {
    "collapsed": false
   },
   "outputs": [],
   "source": [
    "poly = preprocessing.PolynomialFeatures(2)\n",
    "xnew=poly.fit_transform(x)"
   ]
  },
  {
   "cell_type": "code",
   "execution_count": 20,
   "metadata": {
    "collapsed": true
   },
   "outputs": [],
   "source": [
    "# Features scaling\n",
    "X = preprocessing.scale(x)"
   ]
  },
  {
   "cell_type": "code",
   "execution_count": 26,
   "metadata": {
    "collapsed": false
   },
   "outputs": [],
   "source": [
    "# Survivors\n",
    "y=data_wa[:,1].astype(np.float)"
   ]
  },
  {
   "cell_type": "code",
   "execution_count": 27,
   "metadata": {
    "collapsed": false
   },
   "outputs": [
    {
     "data": {
      "text/plain": [
       "0.61087866108786604"
      ]
     },
     "execution_count": 27,
     "metadata": {},
     "output_type": "execute_result"
    }
   ],
   "source": [
    "# Null accuracy\n",
    "1-y_train.mean()"
   ]
  },
  {
   "cell_type": "code",
   "execution_count": 28,
   "metadata": {
    "collapsed": true
   },
   "outputs": [],
   "source": [
    "# Define logistic regression object\n",
    "log_reg=lm.LogisticRegression(penalty='l2', dual=False, tol=0.0001, C=1.0, fit_intercept=True,\n",
    "                                    intercept_scaling=1, class_weight=None, random_state=None,\n",
    "                                    solver='liblinear',max_iter=100, multi_class='ovr',\n",
    "                                    verbose=0, warm_start=False, n_jobs=1)"
   ]
  },
  {
   "cell_type": "code",
   "execution_count": null,
   "metadata": {
    "collapsed": true
   },
   "outputs": [],
   "source": [
    "# Play with the learning curve\n",
    "from sklearn import preprocessing"
   ]
  },
  {
   "cell_type": "code",
   "execution_count": 10,
   "metadata": {
    "collapsed": false
   },
   "outputs": [],
   "source": [
    "X_train, X_test, y_train, y_test = cv.train_test_split(X, y, test_size=0.33, random_state=88)"
   ]
  },
  {
   "cell_type": "code",
   "execution_count": 13,
   "metadata": {
    "collapsed": false
   },
   "outputs": [
    {
     "data": {
      "text/plain": [
       "0.61087866108786604"
      ]
     },
     "execution_count": 13,
     "metadata": {},
     "output_type": "execute_result"
    }
   ],
   "source": [
    "# Null accuracy\n",
    "1-y_train.mean()"
   ]
  },
  {
   "cell_type": "code",
   "execution_count": 30,
   "metadata": {
    "collapsed": false
   },
   "outputs": [],
   "source": [
    "lr=lm.LogisticRegression(penalty='l2', dual=False, tol=0.0001, C=1.0, fit_intercept=True,\n",
    "                                    intercept_scaling=1, class_weight=None, random_state=None,\n",
    "                                    solver='liblinear',max_iter=100, multi_class='ovr',\n",
    "                                    verbose=0, warm_start=False, n_jobs=1)"
   ]
  },
  {
   "cell_type": "code",
   "execution_count": 31,
   "metadata": {
    "collapsed": false
   },
   "outputs": [
    {
     "data": {
      "text/plain": [
       "LogisticRegression(C=1.0, class_weight=None, dual=False, fit_intercept=True,\n",
       "          intercept_scaling=1, max_iter=100, multi_class='ovr', n_jobs=1,\n",
       "          penalty='l2', random_state=None, solver='liblinear', tol=0.0001,\n",
       "          verbose=0, warm_start=False)"
      ]
     },
     "execution_count": 31,
     "metadata": {},
     "output_type": "execute_result"
    }
   ],
   "source": [
    "lr.fit(X_train,y_train)"
   ]
  },
  {
   "cell_type": "code",
   "execution_count": 32,
   "metadata": {
    "collapsed": false
   },
   "outputs": [
    {
     "data": {
      "text/plain": [
       "0.83472803347280333"
      ]
     },
     "execution_count": 32,
     "metadata": {},
     "output_type": "execute_result"
    }
   ],
   "source": [
    "lr.score(X_train,y_train)"
   ]
  },
  {
   "cell_type": "code",
   "execution_count": 33,
   "metadata": {
    "collapsed": false
   },
   "outputs": [
    {
     "name": "stdout",
     "output_type": "stream",
     "text": [
      "Accuracy: 0.83 (+/- 0.16)\n"
     ]
    }
   ],
   "source": [
    "scores = cv.cross_val_score(lr, X_train, y_train, cv=20)\n",
    "print(\"Accuracy: %0.2f (+/- %0.2f)\" % (scores.mean(), scores.std() * 2))"
   ]
  },
  {
   "cell_type": "code",
   "execution_count": 34,
   "metadata": {
    "collapsed": false
   },
   "outputs": [],
   "source": [
    "C_s = np.logspace(-10, 3, 30)"
   ]
  }
 ],
 "metadata": {
  "kernelspec": {
   "display_name": "Python 3",
   "language": "python",
   "name": "python3"
  },
  "language_info": {
   "codemirror_mode": {
    "name": "ipython",
    "version": 3
   },
   "file_extension": ".py",
   "mimetype": "text/x-python",
   "name": "python",
   "nbconvert_exporter": "python",
   "pygments_lexer": "ipython3",
   "version": "3.5.2"
  }
 },
 "nbformat": 4,
 "nbformat_minor": 0
}

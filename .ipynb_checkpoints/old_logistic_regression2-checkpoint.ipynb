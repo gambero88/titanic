{
 "cells": [
  {
   "cell_type": "code",
   "execution_count": 1,
   "metadata": {
    "collapsed": true
   },
   "outputs": [],
   "source": [
    "# This script performs an exploratory data analysis of the passengers\n",
    "\n",
    "\n",
    "# VARIABLE DESCRIPTIONS:\n",
    "# 1  survival        Survival\n",
    "#                    (0 = No; 1 = Yes)\n",
    "# 2  pclass          Passenger Class\n",
    "#                    (1 = 1st; 2 = 2nd; 3 = 3rd)\n",
    "# 3  name            Name\n",
    "# 4  sex             Sex\n",
    "# 5  age             Age\n",
    "# 6  sibsp           Number of Siblings/Spouses Aboard\n",
    "# 7  parch           Number of Parents/Children Aboard\n",
    "# 8  ticket          Ticket Number\n",
    "# 9  fare            Passenger Fare\n",
    "# 10 cabin           Cabin\n",
    "# 11 embarked        Port of Embarkation\n",
    "#                    (C = Cherbourg; Q = Queenstown; S = Southampton)"
   ]
  },
  {
   "cell_type": "code",
   "execution_count": 2,
   "metadata": {
    "collapsed": false
   },
   "outputs": [],
   "source": [
    "%matplotlib inline\n",
    "\n",
    "import numpy as np\n",
    "import matplotlib.pyplot as plt\n",
    "import matplotlib.mlab as mlab\n",
    "import csv as csv\n",
    "import sklearn.linear_model as lm\n",
    "import sklearn.cross_validation as cv\n",
    "from sklearn import preprocessing\n",
    "import random"
   ]
  },
  {
   "cell_type": "code",
   "execution_count": 3,
   "metadata": {
    "collapsed": false
   },
   "outputs": [],
   "source": [
    "csv_file_object = csv.reader(open('train.csv'))       # Load in the csv file\n",
    "csv_file_object\n",
    "header = next(csv_file_object)                        # Skip the fist line as it is a header\n",
    "data=[]                                               # Create a variable to hold the data\n",
    "\n",
    "for row in csv_file_object:                           # Skip through each row in the csv file,\n",
    "    data.append(row[0:])                              # adding each row to the data variable\n",
    "data = np.array(data)                                 # Then convert from a list to an array."
   ]
  },
  {
   "cell_type": "code",
   "execution_count": 61,
   "metadata": {
    "collapsed": false
   },
   "outputs": [
    {
     "name": "stdout",
     "output_type": "stream",
     "text": [
      "survivors with age    : 0.406162464986\n",
      "survivors without age : 0.293785310734\n"
     ]
    }
   ],
   "source": [
    "# Select data with age\n",
    "data_wa=np.squeeze(data[data[:,5].nonzero(),:])\n",
    "\n",
    "missin_age_surv=np.sum(data[np.where(data[:,5]==\"\"),1].astype(np.float))/data[np.where(data[:,5]==\"\"),1].size\n",
    "with_age_surv=np.sum(data[data[:,5].nonzero(),1].astype(np.float))/data[data[:,5].nonzero(),1].size\n",
    "\n",
    "print('survivors with age    :',with_age_surv)\n",
    "print('survivors without age :',missin_age_surv)"
   ]
  },
  {
   "cell_type": "code",
   "execution_count": 58,
   "metadata": {
    "collapsed": false
   },
   "outputs": [
    {
     "data": {
      "text/plain": [
       "177"
      ]
     },
     "execution_count": 58,
     "metadata": {},
     "output_type": "execute_result"
    }
   ],
   "source": [
    "data[np.where(data[:,5]==\"\"),1].size"
   ]
  },
  {
   "cell_type": "code",
   "execution_count": 41,
   "metadata": {
    "collapsed": false
   },
   "outputs": [
    {
     "data": {
      "text/plain": [
       "array([ 38.,  26.,  35.])"
      ]
     },
     "execution_count": 41,
     "metadata": {},
     "output_type": "execute_result"
    }
   ],
   "source": [
    "data[1:4,5].astype(np.float)"
   ]
  },
  {
   "cell_type": "code",
   "execution_count": 22,
   "metadata": {
    "collapsed": false
   },
   "outputs": [
    {
     "name": "stdout",
     "output_type": "stream",
     "text": [
      "m = 714\n"
     ]
    }
   ],
   "source": [
    "# number of training examples\n",
    "m=len(data_wa)\n",
    "print('m =',m)\n",
    "\n",
    "# number of features to be used\n",
    "n=7\n",
    "\n",
    "# Create training data set\n",
    "x=np.zeros([m,n])"
   ]
  },
  {
   "cell_type": "code",
   "execution_count": 5,
   "metadata": {
    "collapsed": false
   },
   "outputs": [],
   "source": [
    "# Copy class to training set\n",
    "x[:,0]=data_wa[:,2].astype(np.float)\n",
    "\n",
    "# Copy gender to training set\n",
    "x[data_wa[:,4]=='male',1]=0.\n",
    "x[data_wa[:,4]=='female',1]=1.\n",
    "\n",
    "# Copy age to training set\n",
    "x[:,2]=data_wa[:,5].astype(np.float)\n",
    "\n",
    "# Copy sibsp to training set\n",
    "x[:,3]=data_wa[:,6].astype(np.float)\n",
    "\n",
    "# Copy parch to training set\n",
    "x[:,4]=data_wa[:,7].astype(np.float)\n",
    "\n",
    "# Copy fare to training set\n",
    "x[:,5]=np.log(data_wa[:,9].astype(np.float)+0.1)\n",
    "#x[:,5]=data_wa[:,9].astype(np.float)\n",
    "\n",
    "# Copy embarked to training set\n",
    "x[data_wa[:,11]=='C',6]=1.\n",
    "x[data_wa[:,11]=='Q',6]=2.\n",
    "x[data_wa[:,11]=='S',6]=3."
   ]
  },
  {
   "cell_type": "code",
   "execution_count": 6,
   "metadata": {
    "collapsed": false
   },
   "outputs": [],
   "source": [
    "# Survivors\n",
    "y=data_wa[:,1].astype(np.float)"
   ]
  },
  {
   "cell_type": "code",
   "execution_count": 7,
   "metadata": {
    "collapsed": false
   },
   "outputs": [],
   "source": [
    "poly = preprocessing.PolynomialFeatures(2)\n",
    "x_pol2=poly.fit_transform(x)\n",
    "\n",
    "poly = preprocessing.PolynomialFeatures(3)\n",
    "x_pol3=poly.fit_transform(x)"
   ]
  },
  {
   "cell_type": "code",
   "execution_count": 8,
   "metadata": {
    "collapsed": true
   },
   "outputs": [],
   "source": [
    "# Features scaling\n",
    "X = preprocessing.scale(x)\n",
    "X_pol2 = preprocessing.scale(x_pol2)\n",
    "X_pol3 = preprocessing.scale(x_pol3)"
   ]
  },
  {
   "cell_type": "code",
   "execution_count": 9,
   "metadata": {
    "collapsed": false
   },
   "outputs": [
    {
     "data": {
      "text/plain": [
       "0.5938375350140056"
      ]
     },
     "execution_count": 9,
     "metadata": {},
     "output_type": "execute_result"
    }
   ],
   "source": [
    "# Null accuracy\n",
    "1-y.mean()"
   ]
  },
  {
   "cell_type": "code",
   "execution_count": 1,
   "metadata": {
    "collapsed": false
   },
   "outputs": [
    {
     "ename": "NameError",
     "evalue": "name 'np' is not defined",
     "output_type": "error",
     "traceback": [
      "\u001b[0;31m---------------------------------------------------------------------------\u001b[0m",
      "\u001b[0;31mNameError\u001b[0m                                 Traceback (most recent call last)",
      "\u001b[0;32m<ipython-input-1-8e0e3a1419c6>\u001b[0m in \u001b[0;36m<module>\u001b[0;34m()\u001b[0m\n\u001b[1;32m      3\u001b[0m \u001b[0;32mfrom\u001b[0m \u001b[0msklearn\u001b[0m\u001b[0;34m.\u001b[0m\u001b[0mlearning_curve\u001b[0m \u001b[0;32mimport\u001b[0m \u001b[0mvalidation_curve\u001b[0m\u001b[0;34m\u001b[0m\u001b[0m\n\u001b[1;32m      4\u001b[0m \u001b[0;34m\u001b[0m\u001b[0m\n\u001b[0;32m----> 5\u001b[0;31m \u001b[0mparam_range\u001b[0m\u001b[0;34m=\u001b[0m\u001b[0mnp\u001b[0m\u001b[0;34m.\u001b[0m\u001b[0mlogspace\u001b[0m\u001b[0;34m(\u001b[0m\u001b[0;34m-\u001b[0m\u001b[0;36m5\u001b[0m\u001b[0;34m,\u001b[0m \u001b[0;36m2\u001b[0m\u001b[0;34m,\u001b[0m \u001b[0;36m14\u001b[0m\u001b[0;34m)\u001b[0m\u001b[0;34m\u001b[0m\u001b[0m\n\u001b[0m\u001b[1;32m      6\u001b[0m \u001b[0;34m\u001b[0m\u001b[0m\n\u001b[1;32m      7\u001b[0m train_scores, test_scores = validation_curve(\n",
      "\u001b[0;31mNameError\u001b[0m: name 'np' is not defined"
     ]
    }
   ],
   "source": [
    "# Try validation curve\n",
    "from sklearn.learning_curve import validation_curve\n",
    "from sklearn.svm import SVC\n",
    "\n",
    "param_range=np.logspace(-5, 2, 14)\n",
    "\n",
    "train_scores, test_scores = validation_curve(\n",
    "    lm.LogisticRegression(), X_pol2, y, param_name=\"C\", param_range=param_range,\n",
    "    cv=10, scoring=\"accuracy\", n_jobs=1)\n",
    "\n",
    "# Compute mean and std\n",
    "train_scores_mean=np.mean(train_scores, axis=1)\n",
    "train_scores_std=np.std(train_scores, axis=1)\n",
    "test_scores_mean=np.mean(test_scores, axis=1)\n",
    "test_scores_std=np.std(test_scores, axis=1)\n",
    "\n",
    "# Plot validation curve\n",
    "plt.figure(figsize=(10,6))\n",
    "plt.title(\"Validation Curve with Logistic Regression\")\n",
    "plt.xlabel(\"C\")\n",
    "plt.ylabel(\"Score\")\n",
    "plt.ylim(0.65, 0.9)\n",
    "\n",
    "plt.semilogx(param_range, train_scores_mean, label=\"Training score\", color=\"r\")\n",
    "plt.fill_between(param_range, train_scores_mean - train_scores_std,\n",
    "                 train_scores_mean + train_scores_std, alpha=0.2, color=\"r\")\n",
    "plt.semilogx(param_range, test_scores_mean, label=\"Cv score\", color=\"g\")\n",
    "plt.fill_between(param_range, test_scores_mean - test_scores_std,\n",
    "                 test_scores_mean + test_scores_std, alpha=0.2, color=\"g\")\n",
    "plt.legend(loc=\"best\")\n",
    "plt.grid()\n",
    "plt.show()"
   ]
  },
  {
   "cell_type": "code",
   "execution_count": 11,
   "metadata": {
    "collapsed": false
   },
   "outputs": [
    {
     "data": {
      "image/png": "[encoded data removed]",
      "text/plain": [
       "<matplotlib.figure.Figure at 0x1119a4908>"
      ]
     },
     "metadata": {},
     "output_type": "display_data"
    }
   ],
   "source": [
    "# Try learning curve\n",
    "from sklearn.learning_curve import learning_curve\n",
    "\n",
    "param_sizes=np.arange(0.05,1.05,.05)\n",
    "\n",
    "train_sizes, train_scores, valid_scores = learning_curve(\n",
    "    lm.LogisticRegression(C=0.5), X_pol2, y, train_sizes=param_sizes,cv=10, scoring='accuracy')\n",
    "\n",
    "# Compute mean and std\n",
    "train_scores_mean=np.mean(train_scores, axis=1)\n",
    "train_scores_std=np.std(train_scores, axis=1)\n",
    "valid_scores_mean=np.mean(valid_scores, axis=1)\n",
    "valid_scores_std=np.std(valid_scores, axis=1)\n",
    "\n",
    "# Plot learning curve\n",
    "plt.figure(figsize=(10,6))\n",
    "plt.title(\"Learnig Curve with Logistic Regression C=1\")\n",
    "plt.xlabel(\"training examples\")\n",
    "plt.ylabel(\"Score\")\n",
    "plt.ylim(0.6, 1.1)\n",
    "\n",
    "plt.plot(train_sizes, train_scores_mean, label=\"Training score\", color=\"r\")\n",
    "plt.fill_between(train_sizes, train_scores_mean - train_scores_std,\n",
    "                 train_scores_mean + train_scores_std, alpha=0.2, color=\"r\")\n",
    "plt.plot(train_sizes, valid_scores_mean, label=\"Cv score\", color=\"g\")\n",
    "plt.fill_between(train_sizes, valid_scores_mean - valid_scores_std,\n",
    "                 valid_scores_mean + valid_scores_std, alpha=0.2, color=\"g\")\n",
    "plt.legend(loc=\"best\")\n",
    "plt.grid()\n",
    "plt.show()\n"
   ]
  },
  {
   "cell_type": "code",
   "execution_count": 12,
   "metadata": {
    "collapsed": true
   },
   "outputs": [],
   "source": [
    "# Define logistic regression object\n",
    "log_reg=lm.LogisticRegression(penalty='l2', dual=False, tol=0.0001, C=0.5, fit_intercept=True,\n",
    "                                    intercept_scaling=1, class_weight=None, random_state=None,\n",
    "                                    solver='liblinear',max_iter=100, multi_class='ovr',\n",
    "                                    verbose=0, warm_start=False, n_jobs=1)"
   ]
  },
  {
   "cell_type": "code",
   "execution_count": 13,
   "metadata": {
    "collapsed": false
   },
   "outputs": [
    {
     "name": "stdout",
     "output_type": "stream",
     "text": [
      "Accuracy: 0.82 (+/- 0.10)\n"
     ]
    }
   ],
   "source": [
    "scores = cv.cross_val_score(log_reg, X_pol2, y, cv=10)\n",
    "print(\"Accuracy: %0.2f (+/- %0.2f)\" % (scores.mean(), scores.std() * 2))"
   ]
  },
  {
   "cell_type": "code",
   "execution_count": 14,
   "metadata": {
    "collapsed": false
   },
   "outputs": [
    {
     "name": "stdout",
     "output_type": "stream",
     "text": [
      "Confusion matrix\n",
      "[[388  36]\n",
      " [ 83 207]]\n",
      "\n",
      "NullAccuracy:                      0.593837535014\n",
      "\n",
      "Accuracy   : (TP+TN)/(TP+TN+FP+FN) 0.833333333333 0.833333333333\n",
      "\n",
      "Class Error: (FP+FN)/(TP+TN+FP+FN) 0.166666666667 0.166666666667\n",
      "\n",
      "Sensitivity:      TP/(TP+FN)       0.713793103448 0.713793103448\n",
      "\n",
      "Specificity:      TN/(TN+FP)       0.915094339623\n",
      "\n",
      "FP rate    :      FP/(FP+TN)       0.0849056603774\n",
      "\n",
      "Precision  :      TP/(FP+TP)       0.851851851852 0.851851851852\n",
      "\n",
      " F1 score  :                       0.776735459662\n"
     ]
    }
   ],
   "source": [
    "# Try confusion matrix\n",
    "from sklearn.metrics import confusion_matrix\n",
    "import sklearn.metrics as metrics\n",
    "\n",
    "log_reg.fit(X_pol2,y)\n",
    "y_pred=log_reg.predict(X_pol2)\n",
    "\n",
    "conf=confusion_matrix(y,y_pred)\n",
    "print('Confusion matrix')\n",
    "print(conf)\n",
    "\n",
    "\n",
    "TP=conf[1,1]\n",
    "TN=conf[0,0]\n",
    "FP=conf[0,1]\n",
    "FN=conf[1,0]\n",
    "\n",
    "1-y.mean()\n",
    "\n",
    "print('\\nNullAccuracy:                     ',1-y.mean())\n",
    "\n",
    "print('\\nAccuracy   : (TP+TN)/(TP+TN+FP+FN)',(TP+TN)/(TP+TN+FP+FN),metrics.accuracy_score(y,y_pred))\n",
    "\n",
    "print('\\nClass Error: (FP+FN)/(TP+TN+FP+FN)',(FP+FN)/(TP+TN+FP+FN),1-metrics.accuracy_score(y,y_pred))\n",
    "\n",
    "print('\\nSensitivity:      TP/(TP+FN)      ',TP/(TP+FN),metrics.recall_score(y,y_pred))\n",
    "\n",
    "print('\\nSpecificity:      TN/(TN+FP)      ',TN/(TN+FP))\n",
    "\n",
    "print('\\nFP rate    :      FP/(FP+TN)      ',FP/(FP+TN))\n",
    "\n",
    "print('\\nPrecision  :      TP/(FP+TP)      ', TP/(FP+TP),metrics.precision_score(y,y_pred) )\n",
    "\n",
    "print('\\nF1 score   :                      ', metrics.f1_score(y,y_pred) )\n"
   ]
  },
  {
   "cell_type": "code",
   "execution_count": 15,
   "metadata": {
    "collapsed": false
   },
   "outputs": [
    {
     "data": {
      "image/png": "[encoded data removed]",
      "text/plain": [
       "<matplotlib.figure.Figure at 0x111993978>"
      ]
     },
     "metadata": {},
     "output_type": "display_data"
    }
   ],
   "source": [
    "# Hist of the probability threshold\n",
    "y_pred_prob=log_reg.predict_proba(X_pol2)[:,1]\n",
    "\n",
    "# Plot learning curve\n",
    "plt.figure(figsize=(10,6))\n",
    "plt.title(\"Predicted probability histogram\")\n",
    "plt.xlabel(\"predicted probability\")\n",
    "plt.ylabel(\"counts\")\n",
    "plt.ylim(0,200)\n",
    "plt.xlim(0,1)\n",
    "\n",
    "plt.hist(y_pred_prob,bins=10, color=\"b\",alpha=0.2)\n",
    "plt.show()\n"
   ]
  },
  {
   "cell_type": "code",
   "execution_count": 16,
   "metadata": {
    "collapsed": false
   },
   "outputs": [
    {
     "name": "stdout",
     "output_type": "stream",
     "text": [
      "Confusion matrix\n",
      "[[343  81]\n",
      " [ 50 240]]\n",
      "\n",
      "NullAccuracy:                      0.593837535014\n",
      "\n",
      "Accuracy   : (TP+TN)/(TP+TN+FP+FN) 0.816526610644 0.833333333333\n",
      "\n",
      "Class Error: (FP+FN)/(TP+TN+FP+FN) 0.183473389356 0.166666666667\n",
      "\n",
      "Sensitivity:      TP/(TP+FN)       0.827586206897 0.713793103448\n",
      "\n",
      "Specificity:      TN/(TN+FP)       0.808962264151\n",
      "\n",
      "FP rate    :      FP/(FP+TN)       0.191037735849\n",
      "\n",
      "Precision  :      TP/(FP+TP)       0.747663551402 0.851851851852\n",
      "\n",
      " F1 score  :                       0.776735459662\n"
     ]
    },
    {
     "name": "stderr",
     "output_type": "stream",
     "text": [
      "/Users/Gambero/anaconda/lib/python3.5/site-packages/sklearn/utils/validation.py:386: DeprecationWarning: Passing 1d arrays as data is deprecated in 0.17 and willraise ValueError in 0.19. Reshape your data either using X.reshape(-1, 1) if your data has a single feature or X.reshape(1, -1) if it contains a single sample.\n",
      "  DeprecationWarning)\n"
     ]
    }
   ],
   "source": [
    "# Change probability threshold\n",
    "from sklearn.preprocessing import binarize\n",
    "\n",
    "y_pred_mod=binarize(y_pred_prob,.35)[0]\n",
    "\n",
    "conf=confusion_matrix(y,y_pred_mod)\n",
    "print('Confusion matrix')\n",
    "print(conf)\n",
    "\n",
    "\n",
    "TP=conf[1,1]\n",
    "TN=conf[0,0]\n",
    "FP=conf[0,1]\n",
    "FN=conf[1,0]\n",
    "\n",
    "1-y.mean()\n",
    "\n",
    "print('\\nNullAccuracy:                     ',1-y.mean())\n",
    "\n",
    "print('\\nAccuracy   : (TP+TN)/(TP+TN+FP+FN)',(TP+TN)/(TP+TN+FP+FN),metrics.accuracy_score(y,y_pred))\n",
    "\n",
    "print('\\nClass Error: (FP+FN)/(TP+TN+FP+FN)',(FP+FN)/(TP+TN+FP+FN),1-metrics.accuracy_score(y,y_pred))\n",
    "\n",
    "print('\\nSensitivity:      TP/(TP+FN)      ',TP/(TP+FN),metrics.recall_score(y,y_pred))\n",
    "\n",
    "print('\\nSpecificity:      TN/(TN+FP)      ',TN/(TN+FP))\n",
    "\n",
    "print('\\nFP rate    :      FP/(FP+TN)      ',FP/(FP+TN))\n",
    "\n",
    "print('\\nPrecision  :      TP/(FP+TP)      ', TP/(FP+TP),metrics.precision_score(y,y_pred) )\n",
    "\n",
    "print('\\nF1 score   :                      ', metrics.f1_score(y,y_pred) )\n",
    "\n",
    "\n"
   ]
  },
  {
   "cell_type": "code",
   "execution_count": 64,
   "metadata": {
    "collapsed": false
   },
   "outputs": [
    {
     "data": {
      "image/png": "[encoded data removed]",
      "text/plain": [
       "<matplotlib.figure.Figure at 0x1115a4208>"
      ]
     },
     "metadata": {},
     "output_type": "display_data"
    },
    {
     "data": {
      "text/plain": [
       "0.88190468445022774"
      ]
     },
     "execution_count": 64,
     "metadata": {},
     "output_type": "execute_result"
    }
   ],
   "source": [
    "# Try ROC curve\n",
    "\n",
    "fpr, tpr, thresholds = metrics.roc_curve(y, y_pred_prob)\n",
    "\n",
    "# Plot ROC curve\n",
    "plt.figure(figsize=(20,6))\n",
    "\n",
    "plt.subplot(1,2,1)\n",
    "plt.title(\"ROC curve\")\n",
    "plt.xlabel(\"FP rate (1-specificity)\")\n",
    "plt.ylabel(\"TP rate (sensitivity)\")\n",
    "plt.xlim(0, 1)\n",
    "plt.ylim(0, 1)\n",
    "\n",
    "plt.grid()\n",
    "plt.plot(fpr,tpr, color=\"b\")\n",
    "plt.plot([0, 1], [0, 1], 'k--')\n",
    "\n",
    "plt.subplot(1,2,2)\n",
    "plt.title(\"FP/TP curves\")\n",
    "plt.xlabel(\"thresholds\")\n",
    "plt.ylabel(\"rate\")\n",
    "plt.xlim(0, 1)\n",
    "plt.ylim(0, 1)\n",
    "\n",
    "plt.plot(thresholds,tpr, color=\"r\",label=\"TP\")\n",
    "plt.plot(thresholds,fpr, color=\"g\",label=\"FP\")\n",
    "plt.legend(loc=\"best\")\n",
    "plt.grid()\n",
    "\n",
    "plt.show()\n",
    "\n",
    "\n",
    "metrics.roc_auc_score(y, y_pred_prob)"
   ]
  },
  {
   "cell_type": "code",
   "execution_count": null,
   "metadata": {
    "collapsed": true
   },
   "outputs": [],
   "source": []
  }
 ],
 "metadata": {
  "kernelspec": {
   "display_name": "Python 3",
   "language": "python",
   "name": "python3"
  },
  "language_info": {
   "codemirror_mode": {
    "name": "ipython",
    "version": 3
   },
   "file_extension": ".py",
   "mimetype": "text/x-python",
   "name": "python",
   "nbconvert_exporter": "python",
   "pygments_lexer": "ipython3",
   "version": "3.5.2"
  }
 },
 "nbformat": 4,
 "nbformat_minor": 0
}
